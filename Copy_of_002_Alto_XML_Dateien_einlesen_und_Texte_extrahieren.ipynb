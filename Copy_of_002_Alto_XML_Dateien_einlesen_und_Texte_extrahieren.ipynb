{
  "cells": [
    {
      "cell_type": "markdown",
      "metadata": {
        "id": "view-in-github",
        "colab_type": "text"
      },
      "source": [
        "<a href=\"https://colab.research.google.com/github/kschmi68/NLP_2024/blob/main/Copy_of_002_Alto_XML_Dateien_einlesen_und_Texte_extrahieren.ipynb\" target=\"_parent\"><img src=\"https://colab.research.google.com/assets/colab-badge.svg\" alt=\"Open In Colab\"/></a>"
      ]
    },
    {
      "cell_type": "markdown",
      "id": "6409d458-89cd-464b-9e97-ca7269dbefc8",
      "metadata": {
        "id": "6409d458-89cd-464b-9e97-ca7269dbefc8"
      },
      "source": [
        "# Summer School: Digitale Methoden der Zeitungsanalyse\n",
        "\n",
        "## Teil 2: Alto-XML-Dateien einlesen und Text extrahieren"
      ]
    },
    {
      "cell_type": "markdown",
      "id": "af9bb1e9-8c44-4aeb-9bf0-5906c332051e",
      "metadata": {
        "id": "af9bb1e9-8c44-4aeb-9bf0-5906c332051e"
      },
      "source": [
        "In diesem Teil werden zunächst die XML-Dateien eingelesen und der reine Text extrahiert.\n",
        "\n",
        "Um die Arbeitsumgebung für die folgenden Schritte passend einzurichten, sollten zunächst die benötigten Python-Biblitoheken importiert werden.\n",
        "\n",
        "- `pandas`: Bibliothek zur Datenanalyse.\n",
        "- `lxml`: Bibliothek zur schnellen und flexiblen Verarbeitung von XML- und HTML-Dokumenten\n",
        "- `BeautifulSoup`: Bibliothek zum einfachen Parsen und Scrapen von HTML- und XML-Dokumenten\n",
        "- `unicodedata`: Standardbibliothek zur Handhabung und Normalisierung von Unicode-Daten\n",
        "- `pathlib`: Biobliothek zur Arbeit mit Dateisystempfaden in Python\n",
        "- `tqdm`: Zur Erstellung von Fortschrittsbalken in Python-Schleifen\n",
        "\n"
      ]
    },
    {
      "cell_type": "code",
      "execution_count": 1,
      "id": "e038d51d-89f1-45e2-b769-52b4f794931f",
      "metadata": {
        "id": "e038d51d-89f1-45e2-b769-52b4f794931f"
      },
      "outputs": [],
      "source": [
        "import pandas as pd\n",
        "from lxml import etree\n",
        "from tqdm import tqdm\n",
        "import unicodedata\n",
        "from bs4 import BeautifulSoup\n",
        "from pathlib import Path"
      ]
    },
    {
      "cell_type": "markdown",
      "id": "057d5e7c-fc38-4652-93eb-20584607986f",
      "metadata": {
        "id": "057d5e7c-fc38-4652-93eb-20584607986f"
      },
      "source": [
        "Optional: Lokale Installation"
      ]
    },
    {
      "cell_type": "code",
      "execution_count": 2,
      "id": "1688f38d-d5f4-4f38-b2f9-03844d7792e3",
      "metadata": {
        "id": "1688f38d-d5f4-4f38-b2f9-03844d7792e3"
      },
      "outputs": [],
      "source": [
        "%pip install -q tqdm\n",
        "%pip install -q bs4\n",
        "%pip install -q pathlib\n",
        "%pip install -q matplotlib\n",
        "%pip install -q numpy\n",
        "%pip install -q wordcloud\n",
        "%pip install -q plotly.express\n",
        "%pip install -q spacy\n",
        "%pip install -q nltk"
      ]
    },
    {
      "cell_type": "markdown",
      "id": "080c9716-0884-42cd-a802-92a99b32a99c",
      "metadata": {
        "id": "080c9716-0884-42cd-a802-92a99b32a99c"
      },
      "source": [
        "#### Exemplarisches Laden **einer** XML-Datei:"
      ]
    },
    {
      "cell_type": "markdown",
      "id": "7d7cdea9-35f6-48be-a4a8-b24fb033132f",
      "metadata": {
        "id": "7d7cdea9-35f6-48be-a4a8-b24fb033132f"
      },
      "source": [
        "Direktes laden einer Datei:"
      ]
    },
    {
      "cell_type": "code",
      "execution_count": 3,
      "id": "6e97cc70-4ed3-4d78-a925-41490daca404",
      "metadata": {
        "id": "6e97cc70-4ed3-4d78-a925-41490daca404",
        "colab": {
          "base_uri": "https://localhost:8080/",
          "height": 176
        },
        "outputId": "65a96557-ce34-4070-b382-f92ab052fc01"
      },
      "outputs": [
        {
          "output_type": "error",
          "ename": "FileNotFoundError",
          "evalue": "[Errno 2] No such file or directory: 'La_Otra_Alemania/1942-01-01_BWSVNEKFTM7SPW4SQAWQQNGIHHTRFDS4/DDB_FULLTEXT/5.xml'",
          "traceback": [
            "\u001b[0;31m---------------------------------------------------------------------------\u001b[0m",
            "\u001b[0;31mFileNotFoundError\u001b[0m                         Traceback (most recent call last)",
            "\u001b[0;32m<ipython-input-3-858079518f67>\u001b[0m in \u001b[0;36m<cell line: 1>\u001b[0;34m()\u001b[0m\n\u001b[0;32m----> 1\u001b[0;31m \u001b[0;32mwith\u001b[0m \u001b[0mopen\u001b[0m \u001b[0;34m(\u001b[0m\u001b[0;34m\"La_Otra_Alemania/1942-01-01_BWSVNEKFTM7SPW4SQAWQQNGIHHTRFDS4/DDB_FULLTEXT/5.xml\"\u001b[0m\u001b[0;34m)\u001b[0m \u001b[0;32mas\u001b[0m \u001b[0mf\u001b[0m\u001b[0;34m:\u001b[0m\u001b[0;34m\u001b[0m\u001b[0;34m\u001b[0m\u001b[0m\n\u001b[0m\u001b[1;32m      2\u001b[0m     \u001b[0mcontent\u001b[0m \u001b[0;34m=\u001b[0m \u001b[0mf\u001b[0m\u001b[0;34m.\u001b[0m\u001b[0mread\u001b[0m\u001b[0;34m(\u001b[0m\u001b[0;34m)\u001b[0m\u001b[0;34m\u001b[0m\u001b[0;34m\u001b[0m\u001b[0m\n",
            "\u001b[0;31mFileNotFoundError\u001b[0m: [Errno 2] No such file or directory: 'La_Otra_Alemania/1942-01-01_BWSVNEKFTM7SPW4SQAWQQNGIHHTRFDS4/DDB_FULLTEXT/5.xml'"
          ]
        }
      ],
      "source": [
        "with open (\"La_Otra_Alemania/1942-01-01_BWSVNEKFTM7SPW4SQAWQQNGIHHTRFDS4/DDB_FULLTEXT/5.xml\") as f:\n",
        "    content = f.read()"
      ]
    },
    {
      "cell_type": "code",
      "source": [
        "from google.colab import drive\n",
        "drive.mount('/content/drive/content/La_Otra_Alemania')"
      ],
      "metadata": {
        "colab": {
          "base_uri": "https://localhost:8080/",
          "height": 304
        },
        "id": "SqB1VFedVwot",
        "outputId": "61c0fdc6-a57f-4b28-c679-81755bfb585b"
      },
      "id": "SqB1VFedVwot",
      "execution_count": 4,
      "outputs": [
        {
          "output_type": "error",
          "ename": "ValueError",
          "evalue": "Mountpoint must be in a directory that exists",
          "traceback": [
            "\u001b[0;31m---------------------------------------------------------------------------\u001b[0m",
            "\u001b[0;31mValueError\u001b[0m                                Traceback (most recent call last)",
            "\u001b[0;32m<ipython-input-4-511c38adf97b>\u001b[0m in \u001b[0;36m<cell line: 2>\u001b[0;34m()\u001b[0m\n\u001b[1;32m      1\u001b[0m \u001b[0;32mfrom\u001b[0m \u001b[0mgoogle\u001b[0m\u001b[0;34m.\u001b[0m\u001b[0mcolab\u001b[0m \u001b[0;32mimport\u001b[0m \u001b[0mdrive\u001b[0m\u001b[0;34m\u001b[0m\u001b[0;34m\u001b[0m\u001b[0m\n\u001b[0;32m----> 2\u001b[0;31m \u001b[0mdrive\u001b[0m\u001b[0;34m.\u001b[0m\u001b[0mmount\u001b[0m\u001b[0;34m(\u001b[0m\u001b[0;34m'/content/drive/content/La_Otra_Alemania'\u001b[0m\u001b[0;34m)\u001b[0m\u001b[0;34m\u001b[0m\u001b[0;34m\u001b[0m\u001b[0m\n\u001b[0m",
            "\u001b[0;32m/usr/local/lib/python3.10/dist-packages/google/colab/drive.py\u001b[0m in \u001b[0;36mmount\u001b[0;34m(mountpoint, force_remount, timeout_ms, readonly)\u001b[0m\n\u001b[1;32m     98\u001b[0m \u001b[0;32mdef\u001b[0m \u001b[0mmount\u001b[0m\u001b[0;34m(\u001b[0m\u001b[0mmountpoint\u001b[0m\u001b[0;34m,\u001b[0m \u001b[0mforce_remount\u001b[0m\u001b[0;34m=\u001b[0m\u001b[0;32mFalse\u001b[0m\u001b[0;34m,\u001b[0m \u001b[0mtimeout_ms\u001b[0m\u001b[0;34m=\u001b[0m\u001b[0;36m120000\u001b[0m\u001b[0;34m,\u001b[0m \u001b[0mreadonly\u001b[0m\u001b[0;34m=\u001b[0m\u001b[0;32mFalse\u001b[0m\u001b[0;34m)\u001b[0m\u001b[0;34m:\u001b[0m\u001b[0;34m\u001b[0m\u001b[0;34m\u001b[0m\u001b[0m\n\u001b[1;32m     99\u001b[0m   \u001b[0;34m\"\"\"Mount your Google Drive at the specified mountpoint path.\"\"\"\u001b[0m\u001b[0;34m\u001b[0m\u001b[0;34m\u001b[0m\u001b[0m\n\u001b[0;32m--> 100\u001b[0;31m   return _mount(\n\u001b[0m\u001b[1;32m    101\u001b[0m       \u001b[0mmountpoint\u001b[0m\u001b[0;34m,\u001b[0m\u001b[0;34m\u001b[0m\u001b[0;34m\u001b[0m\u001b[0m\n\u001b[1;32m    102\u001b[0m       \u001b[0mforce_remount\u001b[0m\u001b[0;34m=\u001b[0m\u001b[0mforce_remount\u001b[0m\u001b[0;34m,\u001b[0m\u001b[0;34m\u001b[0m\u001b[0;34m\u001b[0m\u001b[0m\n",
            "\u001b[0;32m/usr/local/lib/python3.10/dist-packages/google/colab/drive.py\u001b[0m in \u001b[0;36m_mount\u001b[0;34m(mountpoint, force_remount, timeout_ms, ephemeral, readonly)\u001b[0m\n\u001b[1;32m    202\u001b[0m     \u001b[0mnormed\u001b[0m \u001b[0;34m=\u001b[0m \u001b[0m_os\u001b[0m\u001b[0;34m.\u001b[0m\u001b[0mpath\u001b[0m\u001b[0;34m.\u001b[0m\u001b[0mnormpath\u001b[0m\u001b[0;34m(\u001b[0m\u001b[0mmountpoint\u001b[0m\u001b[0;34m)\u001b[0m\u001b[0;34m\u001b[0m\u001b[0;34m\u001b[0m\u001b[0m\n\u001b[1;32m    203\u001b[0m     \u001b[0;32mif\u001b[0m \u001b[0;34m'/'\u001b[0m \u001b[0;32min\u001b[0m \u001b[0mnormed\u001b[0m \u001b[0;32mand\u001b[0m \u001b[0;32mnot\u001b[0m \u001b[0m_os\u001b[0m\u001b[0;34m.\u001b[0m\u001b[0mpath\u001b[0m\u001b[0;34m.\u001b[0m\u001b[0mexists\u001b[0m\u001b[0;34m(\u001b[0m\u001b[0m_os\u001b[0m\u001b[0;34m.\u001b[0m\u001b[0mpath\u001b[0m\u001b[0;34m.\u001b[0m\u001b[0mdirname\u001b[0m\u001b[0;34m(\u001b[0m\u001b[0mnormed\u001b[0m\u001b[0;34m)\u001b[0m\u001b[0;34m)\u001b[0m\u001b[0;34m:\u001b[0m\u001b[0;34m\u001b[0m\u001b[0;34m\u001b[0m\u001b[0m\n\u001b[0;32m--> 204\u001b[0;31m       \u001b[0;32mraise\u001b[0m \u001b[0mValueError\u001b[0m\u001b[0;34m(\u001b[0m\u001b[0;34m'Mountpoint must be in a directory that exists'\u001b[0m\u001b[0;34m)\u001b[0m\u001b[0;34m\u001b[0m\u001b[0;34m\u001b[0m\u001b[0m\n\u001b[0m\u001b[1;32m    205\u001b[0m   \u001b[0;32mexcept\u001b[0m\u001b[0;34m:\u001b[0m\u001b[0;34m\u001b[0m\u001b[0;34m\u001b[0m\u001b[0m\n\u001b[1;32m    206\u001b[0m     \u001b[0md\u001b[0m\u001b[0;34m.\u001b[0m\u001b[0mkill\u001b[0m\u001b[0;34m(\u001b[0m\u001b[0m_signal\u001b[0m\u001b[0;34m.\u001b[0m\u001b[0mSIGKILL\u001b[0m\u001b[0;34m)\u001b[0m\u001b[0;34m\u001b[0m\u001b[0;34m\u001b[0m\u001b[0m\n",
            "\u001b[0;31mValueError\u001b[0m: Mountpoint must be in a directory that exists"
          ]
        }
      ]
    },
    {
      "cell_type": "code",
      "execution_count": null,
      "id": "bdcf27e7-9ed3-450e-ae0b-09f8fde61637",
      "metadata": {
        "id": "bdcf27e7-9ed3-450e-ae0b-09f8fde61637"
      },
      "outputs": [],
      "source": [
        "print(content)"
      ]
    },
    {
      "cell_type": "code",
      "execution_count": null,
      "id": "5a92ee86-b829-42bf-ac21-d2d4ad24e506",
      "metadata": {
        "id": "5a92ee86-b829-42bf-ac21-d2d4ad24e506"
      },
      "outputs": [],
      "source": [
        "print(type(content))"
      ]
    },
    {
      "cell_type": "markdown",
      "id": "f7ec3d68-a1a7-4620-baa6-76531e2dc14b",
      "metadata": {
        "id": "f7ec3d68-a1a7-4620-baa6-76531e2dc14b"
      },
      "source": [
        "Datei direkt als XML laden:"
      ]
    },
    {
      "cell_type": "code",
      "execution_count": null,
      "id": "18da9813-16f9-411b-8fc5-34b03f3ec710",
      "metadata": {
        "id": "18da9813-16f9-411b-8fc5-34b03f3ec710"
      },
      "outputs": [],
      "source": [
        "xml = BeautifulSoup(open('La_Otra_Alemania/1942-01-01_BWSVNEKFTM7SPW4SQAWQQNGIHHTRFDS4/DDB_FULLTEXT/5.xml'),'lxml-xml')\n",
        "print(xml.prettify())"
      ]
    },
    {
      "cell_type": "code",
      "execution_count": null,
      "id": "4b5a2813-3152-4c2e-9c7a-0969f27d5658",
      "metadata": {
        "id": "4b5a2813-3152-4c2e-9c7a-0969f27d5658"
      },
      "outputs": [],
      "source": [
        "print(type(xml))"
      ]
    },
    {
      "cell_type": "markdown",
      "id": "b8b4cada-572d-4cd5-afee-b952f2b5be0a",
      "metadata": {
        "id": "b8b4cada-572d-4cd5-afee-b952f2b5be0a"
      },
      "source": [
        "#### Laden **aller** .xml-Dateien aus einem Unterordner\n",
        "\n",
        "Laden aller Dateien aus dem Unterverzeichnis \"La_Otra_Alemania/1942-01-01_BWSVNEKFTM7SPW4SQAWQQNGIHHTRFDS4\":"
      ]
    },
    {
      "cell_type": "code",
      "execution_count": null,
      "id": "eed3331c-9399-48a0-b566-c8716dbf65da",
      "metadata": {
        "id": "eed3331c-9399-48a0-b566-c8716dbf65da"
      },
      "outputs": [],
      "source": [
        "folder_xml = []\n",
        "\n",
        "for filepath in Path('./La_Otra_Alemania/1942-01-01_BWSVNEKFTM7SPW4SQAWQQNGIHHTRFDS4').glob('*/*.XML'):\n",
        "    with filepath.open() as f:\n",
        "        soup = BeautifulSoup(f,'lxml-xml')\n",
        "        folder_xml.append(soup)"
      ]
    },
    {
      "cell_type": "code",
      "execution_count": null,
      "id": "1f767b99-5c31-4dcc-90a4-46d1dda2cd79",
      "metadata": {
        "id": "1f767b99-5c31-4dcc-90a4-46d1dda2cd79"
      },
      "outputs": [],
      "source": [
        "print(len(folder_xml))"
      ]
    },
    {
      "cell_type": "code",
      "execution_count": null,
      "id": "40cf60ca-229b-4d1a-adbc-0c470bb39d8d",
      "metadata": {
        "id": "40cf60ca-229b-4d1a-adbc-0c470bb39d8d"
      },
      "outputs": [],
      "source": [
        "print(folder_xml)"
      ]
    },
    {
      "cell_type": "markdown",
      "id": "680a5a80-bd97-4beb-be72-01ccfe323bd2",
      "metadata": {
        "id": "680a5a80-bd97-4beb-be72-01ccfe323bd2"
      },
      "source": [
        "#### Laden ALLER .xml-Dateien im Unterverzeichnis \"La_Otra_Alemania\"\n",
        "\n",
        "Statt einer Liste wird nun ein Dictionary erzeugt, welches zur besseren Nachvollziehbarkeit als Schlüssel auch den jeweiligen Dateinamen enthält:"
      ]
    },
    {
      "cell_type": "code",
      "execution_count": null,
      "id": "59426f21-e4cd-496a-971a-15cb300b43e4",
      "metadata": {
        "id": "59426f21-e4cd-496a-971a-15cb300b43e4"
      },
      "outputs": [],
      "source": [
        "all_xml = {}\n",
        "\n",
        "for filepath in Path('./La_Otra_Alemania').glob('**/*.XML'):\n",
        "    with filepath.open(encoding='utf-8') as f:\n",
        "        # read as string:\n",
        "        xml_string = f.read()\n",
        "        #Dateiname inklusive der Namen der beiden übergeordneten Ordner als Schlüssel:\n",
        "        key = f\"{filepath.parent.parent.name}/{filepath.parent.name}/{filepath.name}\"\n",
        "        all_xml[key] = xml_string"
      ]
    },
    {
      "cell_type": "code",
      "execution_count": null,
      "id": "57771e6e-b5c6-49da-a93a-cc68d619c4fc",
      "metadata": {
        "id": "57771e6e-b5c6-49da-a93a-cc68d619c4fc"
      },
      "outputs": [],
      "source": [
        "print(len(all_xml))"
      ]
    },
    {
      "cell_type": "markdown",
      "id": "4342950f-fa4d-49fd-88da-a98379c723c5",
      "metadata": {
        "id": "4342950f-fa4d-49fd-88da-a98379c723c5"
      },
      "source": [
        "#### Kurze Erkärung zu .glob:\n",
        "\n",
        "- Mustererkennung: Die glob-Methode wird verwendet, um Dateipfade mit einem bestimmten Muster abzugleichen. In diesem Fall ist das Muster '\\*/\\*.XML'.\n",
        "- Musterdetails:\n",
        "    - '\\*' entspricht einer beliebigen Anzahl von Zeichen, einschließlich keinem.\n",
        "    - '\\*.XML' entspricht jeder Datei mit der Erweiterung '.XML'.\n",
        "    - Das Muster '\\*/\\*.XML' sucht speziell nach '.XML'-Dateien, die sich eine Verzeichnisebene unterhalb des angegebenen Pfads ('./Folder') befinden.\n",
        "- Rekursive Suche: Das Muster '\\*/\\*.XML' sucht nach XML-Dateien in allen unmittelbaren Unterverzeichnissen von './Folder'. Um rekursiv durch alle Unterverzeichnisse in beliebiger Tiefe zu suchen, wird das Muster '\\*\\*/\\*.XML' verwendet.\n",
        "\n",
        "\n",
        "#### Umwandlung in ein Pandas-Dataframe\n"
      ]
    },
    {
      "cell_type": "code",
      "execution_count": null,
      "id": "ccef7d68-1810-4ef4-b6bf-79a44d7a8899",
      "metadata": {
        "id": "ccef7d68-1810-4ef4-b6bf-79a44d7a8899"
      },
      "outputs": [],
      "source": [
        "df = pd.DataFrame(list(all_xml.items()), columns=['filename', 'content'])\n",
        "df"
      ]
    },
    {
      "cell_type": "markdown",
      "id": "4695bd76-2e9a-4f44-a763-83a5ddbb347c",
      "metadata": {
        "jp-MarkdownHeadingCollapsed": true,
        "id": "4695bd76-2e9a-4f44-a763-83a5ddbb347c"
      },
      "source": [
        "#### Suchen von möglichen Problemen (optional):"
      ]
    },
    {
      "cell_type": "code",
      "execution_count": null,
      "id": "5b58cb63-664b-451b-85bc-def909e4265e",
      "metadata": {
        "id": "5b58cb63-664b-451b-85bc-def909e4265e"
      },
      "outputs": [],
      "source": [
        "# Sucht nach dem Index von Reihen, in denen die Spalte \"text\" keinen Inhalt hat:\n",
        "empty_text_indices = df[df['text'] == \"\"].index\n",
        "\n",
        "# Ausgabe der gefundenen Zeilen ohne Text:\n",
        "for index in empty_text_indices:\n",
        "    print(f\"Index: {index}, Content: {df.loc[index, 'Filename']}\")"
      ]
    },
    {
      "cell_type": "markdown",
      "id": "4b0066d8-e0de-44c3-a14b-9f5fb2c6f798",
      "metadata": {
        "id": "4b0066d8-e0de-44c3-a14b-9f5fb2c6f798"
      },
      "source": [
        "#### Text aus XML extrahieren:"
      ]
    },
    {
      "cell_type": "code",
      "execution_count": null,
      "id": "d6104b29-5dc6-4242-a29c-a7bb1366beaf",
      "metadata": {
        "id": "d6104b29-5dc6-4242-a29c-a7bb1366beaf"
      },
      "outputs": [],
      "source": [
        "def extract_text(content):\n",
        "    # Remove XML declaration if present\n",
        "    if content.startswith('<?xml'):\n",
        "        content = content.split('?>', 1)[1]\n",
        "\n",
        "    NS = {'alto': 'http://www.loc.gov/standards/alto/ns-v2#'}\n",
        "    tree = etree.fromstring(unicodedata.normalize(\"NFC\", content))\n",
        "\n",
        "    text_lines = []  # Initialize as an empty list to store text lines\n",
        "\n",
        "    for line in tree.xpath('//alto:TextLine', namespaces=NS):\n",
        "        text = \" \".join(\n",
        "            word for word in line.xpath('alto:String/@CONTENT', namespaces=NS))\n",
        "        text_lines.append(text)  # Append each extracted text line to the list\n",
        "\n",
        "    return \" \".join(text_lines)  # Return all text as a single string"
      ]
    },
    {
      "cell_type": "markdown",
      "id": "fd66949e-35f7-4ccf-9050-4ec3ebf0e21d",
      "metadata": {
        "id": "fd66949e-35f7-4ccf-9050-4ec3ebf0e21d"
      },
      "source": [
        "Erstellen einer neuen Spalte \"text\". In diese wird das jeweilige Ergebnis der Anwendung der Funktion \"extract_text\" auf das korrespondierende Element in der Spalte \"content\" des Dataframes \"df\" geschrieben:"
      ]
    },
    {
      "cell_type": "code",
      "execution_count": null,
      "id": "6832a392-f865-41dc-96c4-5340b08c2138",
      "metadata": {
        "id": "6832a392-f865-41dc-96c4-5340b08c2138"
      },
      "outputs": [],
      "source": [
        "df['text'] = df['content'].apply(extract_text)\n",
        "df"
      ]
    },
    {
      "cell_type": "markdown",
      "id": "83bdbff7-d347-4bad-92f8-6e6aca419b09",
      "metadata": {
        "id": "83bdbff7-d347-4bad-92f8-6e6aca419b09"
      },
      "source": [
        "Löschen der Spalte \"content\" um Speicherplatz zu sparen:"
      ]
    },
    {
      "cell_type": "code",
      "execution_count": null,
      "id": "54dafaba-6a0f-4e6f-b0a1-fb1e84eb0327",
      "metadata": {
        "id": "54dafaba-6a0f-4e6f-b0a1-fb1e84eb0327"
      },
      "outputs": [],
      "source": [
        "df2 = df.drop(columns=['content'])\n",
        "df2"
      ]
    },
    {
      "cell_type": "code",
      "execution_count": null,
      "id": "2212facb-5caa-47d3-8563-3a05c76434b3",
      "metadata": {
        "id": "2212facb-5caa-47d3-8563-3a05c76434b3"
      },
      "outputs": [],
      "source": [
        "# Zeilen löschen, in denen die Spalte 'Text' leer ist\n",
        "df2 = df2[df2['text'].notna() & (df2['text'] != '')]\n",
        "df2\n"
      ]
    },
    {
      "cell_type": "markdown",
      "id": "6e6e8ece-ff63-4bd2-aa60-b3b7231f8e9a",
      "metadata": {
        "id": "6e6e8ece-ff63-4bd2-aa60-b3b7231f8e9a"
      },
      "source": [
        "Speichern als CSV:"
      ]
    },
    {
      "cell_type": "code",
      "execution_count": null,
      "id": "41c00e96-8429-4b90-88fb-b2e8a67a19cf",
      "metadata": {
        "id": "41c00e96-8429-4b90-88fb-b2e8a67a19cf"
      },
      "outputs": [],
      "source": [
        "df2.to_csv(\"otra_alemania_content.csv\", encoding = \"UTF-8\")"
      ]
    },
    {
      "cell_type": "code",
      "execution_count": null,
      "id": "9811df28-01e0-4f98-968f-705a5e15cc92",
      "metadata": {
        "id": "9811df28-01e0-4f98-968f-705a5e15cc92"
      },
      "outputs": [],
      "source": []
    }
  ],
  "metadata": {
    "kernelspec": {
      "display_name": "Python 3 (ipykernel)",
      "language": "python",
      "name": "python3"
    },
    "language_info": {
      "codemirror_mode": {
        "name": "ipython",
        "version": 3
      },
      "file_extension": ".py",
      "mimetype": "text/x-python",
      "name": "python",
      "nbconvert_exporter": "python",
      "pygments_lexer": "ipython3",
      "version": "3.10.13"
    },
    "colab": {
      "provenance": [],
      "include_colab_link": true
    }
  },
  "nbformat": 4,
  "nbformat_minor": 5
}