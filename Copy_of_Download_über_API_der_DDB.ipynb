{
  "cells": [
    {
      "cell_type": "markdown",
      "metadata": {
        "id": "view-in-github",
        "colab_type": "text"
      },
      "source": [
        "<a href=\"https://colab.research.google.com/github/kschmi68/NLP_2024/blob/main/Copy_of_Download_%C3%BCber_API_der_DDB.ipynb\" target=\"_parent\"><img src=\"https://colab.research.google.com/assets/colab-badge.svg\" alt=\"Open In Colab\"/></a>"
      ]
    },
    {
      "cell_type": "markdown",
      "id": "485d4713-1eed-4a8d-b275-7df75043aad1",
      "metadata": {
        "id": "485d4713-1eed-4a8d-b275-7df75043aad1"
      },
      "source": [
        "# Download über API der DDB\n",
        "\n",
        "Dieses Google Colab Notebook basiert auf den Forschungsdaten-Notebooks der Deutschen Nationalbibliothek, die unter folgendem Link verfügbar sind: https://github.com/Deutsche-Digitale-Bibliothek/ddblabs-summer-school-2024\n",
        "\n",
        "\n",
        "## Suchindizes der Deutsche Digitale Bibliothek\n",
        "Die Deutsche Digitale Bibliothek betreibt [Solr](https://solr.apache.org/guide/8_8/searching.html)-Suchindizes, die für die verschiedenen Funktionen der (Sub-) Portale benötigt werden. Das Zeitungsportal benutzt zwei Suchindizes. Eine weiterführende Dokumentation befindet sich hier: https://api.deutsche-digitale-bibliothek.de/#/search/getSolrSearch\n",
        "\n",
        "- `newspaper`: enthält Informationen über Zeitungstitel\n",
        "  - Schema: https://dev.fiz-karlsruhe.de/stash/projects/DDB/repos/ddb-backend/browse/Cortex/conf/solr/newspaper/conf/schema.xml\n",
        "  - Konfiguration: https://dev.fiz-karlsruhe.de/stash/projects/DDB/repos/ddb-backend/browse/Cortex/conf/solr/newspaper/conf/solrconfig.xml\n",
        "- `newspaper-issues`: enthält die zeitungsbezogenen Metadaten inkl. Volltexte\n",
        "  - Schema: https://dev.fiz-karlsruhe.de/stash/projects/DDB/repos/ddb-backend/browse/Cortex/conf/solr/newspaper-issues/conf/schema.xml\n",
        "  - Konfiguration: https://dev.fiz-karlsruhe.de/stash/projects/DDB/repos/ddb-backend/browse/Cortex/conf/solr/newspaper-issues/conf/solrconfig.xml\n",
        "\n",
        "## Suchindex `newspaper`\n",
        "Der Suchindex `newspaper` ist ein Suchindex über alle Zeitungstitel der [Zeitschriftendatenbank (ZDB)](https://zdb-katalog.de/). Im Schema des Suchindex (s.o.) sind die Suchfelder (Facetten) dokumentiert. Wenn Zeitungstitel gefunden werden sollen, die im Zeitungsportal verfügbar sind, dann muss nach `hasLoadedIssues:true` (Feld:Wert) gesucht werden.\n",
        "\n",
        "- https://api.deutsche-digitale-bibliothek.de/2/search/index/newspaper/select?q=hasLoadedIssues:true\n",
        "\n",
        "Die Suchfelder können beliebig miteinander kombiniert werden. Das geht mit den Operatoren `AND` und `OR`. Möchte man beispielsweise Zeitungen mit „La otra Alemania“ im Titel suchen, die auch im Zeitungsportal verfügbar sind, dann kombiniert man: `hasLoadedIssues:true AND title:\"La otra Alemania\"`\n",
        "\n",
        "- [https://api.deutsche-digitale-bibliothek.de/2/search/index/newspaper/select?q=hasLoadedIssues:true AND title:\"La otra Alemania\"](https://api.deutsche-digitale-bibliothek.de/2/search/index/newspaper/select?q=hasLoadedIssues:true%20AND%20title:\"La+otra+Alemania\")\n",
        "\n",
        "### Python-Programmcode\n",
        "\n",
        "Python-Programmcode in Jupyter Notebooks ermöglicht interaktives Programmieren und sofortige Anzeige von Ergebnissen. Es ist ideal für die Datenanalyse und Visualisierungen. Python-Bibliotheken können in Notebooks nachgenutzt werden und erhöhen so den Funktionsumfang.\n",
        "\n",
        "Die o. g. Solr-Abfrage kann mit Python ausgeführt werden (Bibliothek [`requests`](https://pypi.org/project/requests/)) und die Antwort von der API mit einem JSON-Parser (`json`) gelesen werden. Eine andere Möglichkeit ist, den Solr-Client [`pysolr`](https://pypi.org/project/pysolr/) zu benutzen. Dieser muss zunächst in der Umgebung mit `pip install -q pysolr` (oder ggf. mit Conda: `conda install conda-forge::pysolr`) installiert werden."
      ]
    },
    {
      "cell_type": "code",
      "execution_count": null,
      "id": "927638e5-6424-4d29-a9ed-dc7b1c86f18e",
      "metadata": {
        "scrolled": true,
        "id": "927638e5-6424-4d29-a9ed-dc7b1c86f18e",
        "outputId": "09eba1dc-ce6c-457f-ac7f-86133f03dfcd",
        "colab": {
          "base_uri": "https://localhost:8080/"
        }
      },
      "outputs": [
        {
          "output_type": "stream",
          "name": "stdout",
          "text": [
            "\u001b[?25l     \u001b[90m━━━━━━━━━━━━━━━━━━━━━━━━━━━━━━━━━━━━━━━━\u001b[0m \u001b[32m0.0/59.1 kB\u001b[0m \u001b[31m?\u001b[0m eta \u001b[36m-:--:--\u001b[0m\r\u001b[2K     \u001b[90m━━━━━━━━━━━━━━━━━━━━━━━━━━━━━━━━━━━━━━━━\u001b[0m \u001b[32m59.1/59.1 kB\u001b[0m \u001b[31m3.8 MB/s\u001b[0m eta \u001b[36m0:00:00\u001b[0m\n",
            "\u001b[?25h  Installing build dependencies ... \u001b[?25l\u001b[?25hdone\n",
            "  Getting requirements to build wheel ... \u001b[?25l\u001b[?25hdone\n",
            "  Installing backend dependencies ... \u001b[?25l\u001b[?25hdone\n",
            "  Preparing metadata (pyproject.toml) ... \u001b[?25l\u001b[?25hdone\n",
            "  Building wheel for pysolr (pyproject.toml) ... \u001b[?25l\u001b[?25hdone\n"
          ]
        }
      ],
      "source": [
        "# Python-Bibliothek pysolr installieren\n",
        "%pip install -q pysolr"
      ]
    },
    {
      "cell_type": "markdown",
      "id": "068284e2-a905-4178-8af8-e4692529ba71",
      "metadata": {
        "id": "068284e2-a905-4178-8af8-e4692529ba71"
      },
      "source": [
        "### KI-generierter Programmcode\n",
        "\n",
        "Die Erstellung des Python-Programmcodes ist KI-gestützt möglich. Die folgenden KI-Prompts sind mit ChatGPT (GPT-4o) erfolgreich getestet und liefern (oft 😉) das gewünschte Ergebnis.\n",
        "\n",
        "<div class=\"alert alert-block alert-info\">\n",
        "<b>Prompt:</b> Ich möchte in Python mit dem Solr-Client <code>pysolr</code> auf den Endpunkt <code>https://api.deutsche-digitale-bibliothek.de/2/search/index/newspaper</code> zugreifen. Kannst Du mir einen Python-Code erstellen, der im Feld <code>location</code> nach „Buenos Aires“ sucht und auch <code>hasLoadedIssues</code> auf „wahr“ setzt. Gibt bitte <code>id</code>, <code>title</code>, <code>location</code>, <code>frequency</code> und <code>progress</code> für jeden Suchtreffer aus.\n",
        "</div>"
      ]
    },
    {
      "cell_type": "code",
      "execution_count": null,
      "id": "71f09196-8da4-4f8b-9231-52a2a34abba2",
      "metadata": {
        "id": "71f09196-8da4-4f8b-9231-52a2a34abba2",
        "outputId": "4e2048f3-d303-44e7-e114-ece551af9d1f",
        "colab": {
          "base_uri": "https://localhost:8080/"
        }
      },
      "outputs": [
        {
          "output_type": "stream",
          "name": "stdout",
          "text": [
            "ID: 3091248-9\n",
            "Title: ['Rastatter Tageblatt']\n",
            "Location: ['Rastatt']\n",
            "Frequency: ['http://id.loc.gov/vocabulary/frequencies/dyl']\n",
            "Progress: ['139. Jahrgang, Nummer 205 (2. September 1942) [?]-140. Jahrgang, Nummer 100 (30. April 1943) ; damit  Erscheinen eingestellt']\n",
            "----------------------------------------\n"
          ]
        }
      ],
      "source": [
        "import pysolr\n",
        "\n",
        "# Solr-Endpunkt-URL\n",
        "solr_url = 'https://api.deutsche-digitale-bibliothek.de/2/search/index/newspaper'\n",
        "\n",
        "# Solr-Client initialisieren\n",
        "solr = pysolr.Solr(solr_url, timeout=10)\n",
        "\n",
        "# Suchparameter\n",
        "q = {\n",
        "    'q': 'title:\"Rastatter Tageblatt\" AND hasLoadedIssues:true', #Zeitungstitel im Zeitungsportal: https://www.deutsche-digitale-bibliothek.de/newspaper/select/title\n",
        "    'fl': 'id,title,location,frequency,progress',\n",
        "    'rows': 10  # Anzahl der zurückzugebenden Ergebnisse\n",
        "}\n",
        "\n",
        "# Suche ausführen\n",
        "results = solr.search(**q)\n",
        "\n",
        "# Ergebnisse ausgeben\n",
        "for result in results:\n",
        "    print(f\"ID: {result.get('id', 'N/A')}\")\n",
        "    print(f\"Title: {result.get('title', 'N/A')}\")\n",
        "    print(f\"Location: {result.get('location', 'N/A')}\")\n",
        "    print(f\"Frequency: {result.get('frequency', 'N/A')}\")\n",
        "    print(f\"Progress: {result.get('progress', 'N/A')}\")\n",
        "    print(\"-\" * 40)"
      ]
    },
    {
      "cell_type": "markdown",
      "id": "fcef90b3-63c4-4b7f-9fa7-49f3a317ea06",
      "metadata": {
        "id": "fcef90b3-63c4-4b7f-9fa7-49f3a317ea06"
      },
      "source": [
        "## Suchindex `newspaper-issues`\n",
        "\n",
        "Der Suchindex `newspaper-issues` ist ein weiterer Suchindex des Zeitungsportals. Dieser enthält alle Ausgaben (`type:issue`) einer Zeitung und alle Seiten (`type:page`). Wenn man nur in einem Zeitungstitel suchen möchte, so kann dies über `zdb_id:{ID der Zeitschriftendatenbank}` (für die „La otra Alemania“ ist es `zdb_id:2149754-0`) eingegrenzt werden.\n",
        "\n",
        "### KI-generierter Programmcode\n",
        "\n",
        "<div class=\"alert alert-block alert-info\">\n",
        "<b>Prompt:</b> Schreibe ein Python-Code, der mithilfe der <code>pysolr</code>-Bibliothek eine Suche in einem Solr-Index durchführt und die Ergebnisse in ein Pandas DataFrame überführt. Der Solr-Index ist über die URL <code>https://api.deutsche-digitale-bibliothek.de/2/search/index/newspaper-issues</code> erreichbar. Die Suchabfrage soll nach Dokumenten mit der <code>zdb_id</code> „2149754-0“ und dem <code>type</code> „issue“ suchen und bis zu 1000 Ergebnisse zurückgeben. Anschließend sollen die Ergebnisse in ein Pandas DataFrame überführt und angezeigt werden.\n",
        "</div>"
      ]
    },
    {
      "cell_type": "code",
      "execution_count": null,
      "id": "388eff15-7efe-4aa4-b931-fa2f47196264",
      "metadata": {
        "scrolled": true,
        "id": "388eff15-7efe-4aa4-b931-fa2f47196264",
        "outputId": "3ac18819-69ff-44b3-9649-3747b8774614",
        "colab": {
          "base_uri": "https://localhost:8080/"
        }
      },
      "outputs": [
        {
          "output_type": "stream",
          "name": "stdout",
          "text": [
            "                                                   id  pagenumber  \\\n",
            "0   AUB6FPO62MVCCD7PNCJZ3ZFTRULVA3NF-ALTO6951449_D...           2   \n",
            "1   D2SN75M5SKRTHVIAYR7NYMOQQP3YT2LB-ALTO6951087_D...           2   \n",
            "2   2I23YEW6TNS7GTIK7PR6QUA42PMXRDBV-ALTO6951561_D...           2   \n",
            "3   AJRCPEBZAJX74O3LWVRIRZWAIW44CYVR-ALTO6951601_D...           2   \n",
            "4   3I6RUQKRENRKTVKKB3GCNKCUQGZGTOVC-ALTO6951637_D...           6   \n",
            "5   LTWX22ASEJWI7UQ56OGKYQOHNTRX6EQB-ALTO6951681_D...           6   \n",
            "6   L7KAFMAV275IF6RL5VEFRGRVHIBUOMLO-ALTO6951621_D...           2   \n",
            "7   L7KAFMAV275IF6RL5VEFRGRVHIBUOMLO-ALTO6951623_D...           4   \n",
            "8   B4BQV7IOGYEBAV2DGGSVVWCBTQH3XKFY-ALTO6951399_D...           4   \n",
            "9   JTHS6JJDMWCF5A6GG53R25CWXKZHGTWQ-ALTO6951617_D...           2   \n",
            "10  3OGE6NMZFV6YDBHVPJSPWTY2ZEGY4ZSU-ALTO6951122_D...           1   \n",
            "11  RXA3UVXJYBLRMZ7M2QKUZJDN6AXI4QQN-ALTO6951423_D...           4   \n",
            "12  U7AUPHJQK3FN7MDFTT27BJAWX564G34L-ALTO6951495_D...           4   \n",
            "13  3PPZONPWNWONRHPZWSO7M6VF6J3PZ2DO-ALTO6951597_D...           2   \n",
            "14  HBIHHEWR3FDI2WT2JEXAZD6YOUUVHUVV-ALTO6951607_D...           4   \n",
            "15  ZS7H6FDKXDNVPBOX4MVNAT66UNIULPIS-ALTO6951586_D...           3   \n",
            "16  3L2E3PBA2FEETMWLULTG3GJL2ER7CPVU-ALTO6951367_D...           4   \n",
            "17  XDA64WA6F74B57Z3IJBGPTSCLVQERTNO-ALTO6951395_D...           4   \n",
            "\n",
            "                                          paper_title  \\\n",
            "0   Rastatter Tageblatt : aelteste weitverbreitete...   \n",
            "1   Rastatter Tageblatt : aelteste weitverbreitete...   \n",
            "2   Rastatter Tageblatt : aelteste weitverbreitete...   \n",
            "3   Rastatter Tageblatt : aelteste weitverbreitete...   \n",
            "4   Rastatter Tageblatt : aelteste weitverbreitete...   \n",
            "5   Rastatter Tageblatt : aelteste weitverbreitete...   \n",
            "6   Rastatter Tageblatt : aelteste weitverbreitete...   \n",
            "7   Rastatter Tageblatt : aelteste weitverbreitete...   \n",
            "8   Rastatter Tageblatt : aelteste weitverbreitete...   \n",
            "9   Rastatter Tageblatt : aelteste weitverbreitete...   \n",
            "10  Rastatter Tageblatt : aelteste weitverbreitete...   \n",
            "11  Rastatter Tageblatt : aelteste weitverbreitete...   \n",
            "12  Rastatter Tageblatt : aelteste weitverbreitete...   \n",
            "13  Rastatter Tageblatt : aelteste weitverbreitete...   \n",
            "14  Rastatter Tageblatt : aelteste weitverbreitete...   \n",
            "15  Rastatter Tageblatt : aelteste weitverbreitete...   \n",
            "16  Rastatter Tageblatt : aelteste weitverbreitete...   \n",
            "17  Rastatter Tageblatt : aelteste weitverbreitete...   \n",
            "\n",
            "                     provider_ddb_id                   provider     zdb_id  \\\n",
            "0   INLVDM4I3AMZLTG6AE6C5GZRJKGOF75K  Badische Landesbibliothek  3091248-9   \n",
            "1   INLVDM4I3AMZLTG6AE6C5GZRJKGOF75K  Badische Landesbibliothek  3091248-9   \n",
            "2   INLVDM4I3AMZLTG6AE6C5GZRJKGOF75K  Badische Landesbibliothek  3091248-9   \n",
            "3   INLVDM4I3AMZLTG6AE6C5GZRJKGOF75K  Badische Landesbibliothek  3091248-9   \n",
            "4   INLVDM4I3AMZLTG6AE6C5GZRJKGOF75K  Badische Landesbibliothek  3091248-9   \n",
            "5   INLVDM4I3AMZLTG6AE6C5GZRJKGOF75K  Badische Landesbibliothek  3091248-9   \n",
            "6   INLVDM4I3AMZLTG6AE6C5GZRJKGOF75K  Badische Landesbibliothek  3091248-9   \n",
            "7   INLVDM4I3AMZLTG6AE6C5GZRJKGOF75K  Badische Landesbibliothek  3091248-9   \n",
            "8   INLVDM4I3AMZLTG6AE6C5GZRJKGOF75K  Badische Landesbibliothek  3091248-9   \n",
            "9   INLVDM4I3AMZLTG6AE6C5GZRJKGOF75K  Badische Landesbibliothek  3091248-9   \n",
            "10  INLVDM4I3AMZLTG6AE6C5GZRJKGOF75K  Badische Landesbibliothek  3091248-9   \n",
            "11  INLVDM4I3AMZLTG6AE6C5GZRJKGOF75K  Badische Landesbibliothek  3091248-9   \n",
            "12  INLVDM4I3AMZLTG6AE6C5GZRJKGOF75K  Badische Landesbibliothek  3091248-9   \n",
            "13  INLVDM4I3AMZLTG6AE6C5GZRJKGOF75K  Badische Landesbibliothek  3091248-9   \n",
            "14  INLVDM4I3AMZLTG6AE6C5GZRJKGOF75K  Badische Landesbibliothek  3091248-9   \n",
            "15  INLVDM4I3AMZLTG6AE6C5GZRJKGOF75K  Badische Landesbibliothek  3091248-9   \n",
            "16  INLVDM4I3AMZLTG6AE6C5GZRJKGOF75K  Badische Landesbibliothek  3091248-9   \n",
            "17  INLVDM4I3AMZLTG6AE6C5GZRJKGOF75K  Badische Landesbibliothek  3091248-9   \n",
            "\n",
            "        publication_date place_of_distribution language  \\\n",
            "0   1943-03-02T12:00:00Z             [Rastatt]    [ger]   \n",
            "1   1942-11-30T12:00:00Z             [Rastatt]    [ger]   \n",
            "2   1943-03-30T12:00:00Z             [Rastatt]    [ger]   \n",
            "3   1943-04-09T12:00:00Z             [Rastatt]    [ger]   \n",
            "4   1943-04-17T12:00:00Z             [Rastatt]    [ger]   \n",
            "5   1943-04-30T12:00:00Z             [Rastatt]    [ger]   \n",
            "6   1943-04-14T12:00:00Z             [Rastatt]    [ger]   \n",
            "7   1943-04-14T12:00:00Z             [Rastatt]    [ger]   \n",
            "8   1943-02-17T12:00:00Z             [Rastatt]    [ger]   \n",
            "9   1943-04-13T12:00:00Z             [Rastatt]    [ger]   \n",
            "10  1942-12-09T12:00:00Z             [Rastatt]    [ger]   \n",
            "11  1943-02-23T12:00:00Z             [Rastatt]    [ger]   \n",
            "12  1943-03-13T12:00:00Z             [Rastatt]    [ger]   \n",
            "13  1943-04-08T12:00:00Z             [Rastatt]    [ger]   \n",
            "14  1943-04-10T12:00:00Z             [Rastatt]    [ger]   \n",
            "15  1943-04-05T12:00:00Z             [Rastatt]    [ger]   \n",
            "16  1943-02-09T12:00:00Z             [Rastatt]    [ger]   \n",
            "17  1943-02-16T12:00:00Z             [Rastatt]    [ger]   \n",
            "\n",
            "                               thumbnail  \\\n",
            "0   c6a2e6fb-2fe1-4165-b60e-81d8376895ef   \n",
            "1   733d7c54-61bf-40be-8ee8-805a293e1e45   \n",
            "2   109c230c-dcc2-4cd6-ae20-722ddff403fc   \n",
            "3   3a94ccaa-576e-463d-b0c9-efb341a3091f   \n",
            "4   1df7bffe-e4b6-4453-b3b0-7e38df49d144   \n",
            "5   fcf28726-110c-490c-bed3-e836af72763f   \n",
            "6   7518121e-3ecc-4539-b464-480564e6b0bc   \n",
            "7   7518121e-3ecc-4539-b464-480564e6b0bc   \n",
            "8   1cc1a4eb-4226-4fde-9529-71277b4adf8d   \n",
            "9   bf426949-2554-4aef-aa9a-f130de828273   \n",
            "10  6dc1aa7d-6535-4f7d-92b0-ba909cb3ba9e   \n",
            "11  d9f83c69-6dd7-4271-ad9c-499dcf0a8efd   \n",
            "12  4b4177bb-2669-4341-a5de-33609da9d20e   \n",
            "13  d94b0215-4698-4053-b6df-feefdea70298   \n",
            "14  b5ee043e-5bdf-43db-bd59-ba3ad222e210   \n",
            "15  9c79eadd-832b-430b-8708-dbe19535cc74   \n",
            "16  b9df4b80-ae98-4aed-ba1d-275c30a9f453   \n",
            "17  8ff6e1e6-03f6-4818-9932-ecc921a6ff4d   \n",
            "\n",
            "                                         pagefulltext  \\\n",
            "0   [/data/altos/AU/B6/AUB6FPO62MVCCD7PNCJZ3ZFTRUL...   \n",
            "1   [/data/altos/D2/SN/D2SN75M5SKRTHVIAYR7NYMOQQP3...   \n",
            "2   [/data/altos/2I/23/2I23YEW6TNS7GTIK7PR6QUA42PM...   \n",
            "3   [/data/altos/AJ/RC/AJRCPEBZAJX74O3LWVRIRZWAIW4...   \n",
            "4   [/data/altos/3I/6R/3I6RUQKRENRKTVKKB3GCNKCUQGZ...   \n",
            "5   [/data/altos/LT/WX/LTWX22ASEJWI7UQ56OGKYQOHNTR...   \n",
            "6   [/data/altos/L7/KA/L7KAFMAV275IF6RL5VEFRGRVHIB...   \n",
            "7   [/data/altos/L7/KA/L7KAFMAV275IF6RL5VEFRGRVHIB...   \n",
            "8   [/data/altos/B4/BQ/B4BQV7IOGYEBAV2DGGSVVWCBTQH...   \n",
            "9   [/data/altos/JT/HS/JTHS6JJDMWCF5A6GG53R25CWXKZ...   \n",
            "10  [/data/altos/3O/GE/3OGE6NMZFV6YDBHVPJSPWTY2ZEG...   \n",
            "11  [/data/altos/RX/A3/RXA3UVXJYBLRMZ7M2QKUZJDN6AX...   \n",
            "12  [/data/altos/U7/AU/U7AUPHJQK3FN7MDFTT27BJAWX56...   \n",
            "13  [/data/altos/3P/PZ/3PPZONPWNWONRHPZWSO7M6VF6J3...   \n",
            "14  [/data/altos/HB/IH/HBIHHEWR3FDI2WT2JEXAZD6YOUU...   \n",
            "15  [/data/altos/ZS/7H/ZS7H6FDKXDNVPBOX4MVNAT66UNI...   \n",
            "16  [/data/altos/3L/2E/3L2E3PBA2FEETMWLULTG3GJL2ER...   \n",
            "17  [/data/altos/XD/A6/XDA64WA6F74B57Z3IJBGPTSCLVQ...   \n",
            "\n",
            "                    pagename  \\\n",
            "0   ALTO6951449_DDB_FULLTEXT   \n",
            "1   ALTO6951087_DDB_FULLTEXT   \n",
            "2   ALTO6951561_DDB_FULLTEXT   \n",
            "3   ALTO6951601_DDB_FULLTEXT   \n",
            "4   ALTO6951637_DDB_FULLTEXT   \n",
            "5   ALTO6951681_DDB_FULLTEXT   \n",
            "6   ALTO6951621_DDB_FULLTEXT   \n",
            "7   ALTO6951623_DDB_FULLTEXT   \n",
            "8   ALTO6951399_DDB_FULLTEXT   \n",
            "9   ALTO6951617_DDB_FULLTEXT   \n",
            "10  ALTO6951122_DDB_FULLTEXT   \n",
            "11  ALTO6951423_DDB_FULLTEXT   \n",
            "12  ALTO6951495_DDB_FULLTEXT   \n",
            "13  ALTO6951597_DDB_FULLTEXT   \n",
            "14  ALTO6951607_DDB_FULLTEXT   \n",
            "15  ALTO6951586_DDB_FULLTEXT   \n",
            "16  ALTO6951367_DDB_FULLTEXT   \n",
            "17  ALTO6951395_DDB_FULLTEXT   \n",
            "\n",
            "                                    preview_reference  \\\n",
            "0   https://api.deutsche-digitale-bibliothek.de/bi...   \n",
            "1   https://api.deutsche-digitale-bibliothek.de/bi...   \n",
            "2   https://api.deutsche-digitale-bibliothek.de/bi...   \n",
            "3   https://api.deutsche-digitale-bibliothek.de/bi...   \n",
            "4   https://api.deutsche-digitale-bibliothek.de/bi...   \n",
            "5   https://api.deutsche-digitale-bibliothek.de/bi...   \n",
            "6   https://api.deutsche-digitale-bibliothek.de/bi...   \n",
            "7   https://api.deutsche-digitale-bibliothek.de/bi...   \n",
            "8   https://api.deutsche-digitale-bibliothek.de/bi...   \n",
            "9   https://api.deutsche-digitale-bibliothek.de/bi...   \n",
            "10  https://api.deutsche-digitale-bibliothek.de/bi...   \n",
            "11  https://api.deutsche-digitale-bibliothek.de/bi...   \n",
            "12  https://api.deutsche-digitale-bibliothek.de/bi...   \n",
            "13  https://api.deutsche-digitale-bibliothek.de/bi...   \n",
            "14  https://api.deutsche-digitale-bibliothek.de/bi...   \n",
            "15  https://api.deutsche-digitale-bibliothek.de/bi...   \n",
            "16  https://api.deutsche-digitale-bibliothek.de/bi...   \n",
            "17  https://api.deutsche-digitale-bibliothek.de/bi...   \n",
            "\n",
            "                                    plainpagefulltext  \n",
            "0   Sette » « aftatter rage - latt Die « Stag , de...  \n",
            "1   « Rastatt er Mo » tag . den 30 . November 1942...  \n",
            "2   Seite 2 Raftatter rageSI » tt Dienstag , den 3...  \n",
            "3   ML ^ Ra » « tt « MraLe » ! att Freitag , den S...  \n",
            "4   » aKatter T « s « vk « tt « amStag , Len 17 . ...  \n",
            "5   Sette « Fretta - , de « SV . SprttVW Gaggenaue...  \n",
            "6   Seite S RaSatter LaaeLlatt Mittwoch , de « 14 ...  \n",
            "7   Sette 4 NaSatt « rra « eSlatt Mittwoch , de « ...  \n",
            "8   Seite 4 SlaRatterra - evlakr Mittwoch , den 17...  \n",
            "9   « « Uer » a » atterraaeri « rr Dienstag . Len ...  \n",
            "10  Rastatter Tageblatt Netteste weitverbreitete Z...  \n",
            "11  « eite 4 RaftatterHaaeSlatt Die « staa . Len 2...  \n",
            "12  « Me » « aKntter LageHakG Samsta g , den 18 . ...  \n",
            "13  « aS « tter ra - eblaH V » nuerStag , de « 8 ....  \n",
            "14  „ Verschwindet \" - er Bodensee ? . sLbrlicd ck...  \n",
            "15  Rastatter Tageblatt Montag , öen 5 . April 1S4...  \n",
            "16  Seist « 4 D j,L,n Stag , den S . KchpM 1 » « ^...  \n",
            "17  A . Fr . K . Verschiedenes . Die gestrige sech...  \n"
          ]
        }
      ],
      "source": [
        "import pandas as pd\n",
        "\n",
        "solr_url = 'https://api.deutsche-digitale-bibliothek.de/2/search/index/newspaper-issues'\n",
        "solr = pysolr.Solr(solr_url, always_commit=True, timeout=100)\n",
        "\n",
        "q = {\n",
        "    'q': 'zdb_id:3091248-9 AND type:page AND publication_date:[1942-01-01T00:00:00Z TO 1943-12-31T23:59:59Z] AND plainpagefulltext: erdbeben*',\n",
        "    'rows': 1000\n",
        "}\n",
        "\n",
        "response = solr.search(**q)\n",
        "\n",
        "# Überführen der Ergebnisse in ein Pandas DataFrame\n",
        "df = pd.DataFrame(response.docs)\n",
        "\n",
        "# DataFrame anzeigen\n",
        "print(df)"
      ]
    },
    {
      "cell_type": "code",
      "source": [
        "df.to_excel('results.xlsx')"
      ],
      "metadata": {
        "id": "7NybvnIAPSuJ"
      },
      "id": "7NybvnIAPSuJ",
      "execution_count": null,
      "outputs": []
    },
    {
      "cell_type": "markdown",
      "id": "0e0cfd84-dd6b-4856-9777-87436a96617b",
      "metadata": {
        "id": "0e0cfd84-dd6b-4856-9777-87436a96617b"
      },
      "source": [
        "### Erste Datenanalyse\n",
        "\n",
        "In dem Dataframe können nun Datenanalysen vorgenommen werden. Wir wollen den Publikationszeitraum von der Zeitung „La otra Alemania“ ermitteln."
      ]
    },
    {
      "cell_type": "code",
      "execution_count": null,
      "id": "67d9d925-e383-4fab-89fe-9a3b17d490bd",
      "metadata": {
        "id": "67d9d925-e383-4fab-89fe-9a3b17d490bd",
        "outputId": "255b39d9-b05f-45e8-8acd-d69c3884a672",
        "colab": {
          "base_uri": "https://localhost:8080/"
        }
      },
      "outputs": [
        {
          "output_type": "stream",
          "name": "stdout",
          "text": [
            "Frühestes Veröffentlichungsdatum: 1942-09-02 12:00:00+00:00\n",
            "Spätestes Veröffentlichungsdatum: 1943-04-30 12:00:00+00:00\n"
          ]
        }
      ],
      "source": [
        "# Sicherstellen, dass publication_date als Datumswerte formatiert sind\n",
        "df['publication_date'] = pd.to_datetime(df['publication_date'])\n",
        "\n",
        "# Frühestes und spätestes Datum ermitteln\n",
        "earliest_date = df['publication_date'].min()\n",
        "latest_date = df['publication_date'].max()\n",
        "\n",
        "# Ergebnisse anzeigen\n",
        "print(f\"Frühestes Veröffentlichungsdatum: {earliest_date}\")\n",
        "print(f\"Spätestes Veröffentlichungsdatum: {latest_date}\")"
      ]
    }
  ],
  "metadata": {
    "kernelspec": {
      "display_name": "Python 3 (ipykernel)",
      "language": "python",
      "name": "python3"
    },
    "language_info": {
      "codemirror_mode": {
        "name": "ipython",
        "version": 3
      },
      "file_extension": ".py",
      "mimetype": "text/x-python",
      "name": "python",
      "nbconvert_exporter": "python",
      "pygments_lexer": "ipython3",
      "version": "3.11.9"
    },
    "colab": {
      "provenance": [],
      "include_colab_link": true
    }
  },
  "nbformat": 4,
  "nbformat_minor": 5
}